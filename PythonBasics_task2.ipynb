{
 "cells": [
  {
   "cell_type": "markdown",
   "metadata": {},
   "source": [
    "# 1) IF ELSE "
   ]
  },
  {
   "cell_type": "code",
   "execution_count": 1,
   "metadata": {},
   "outputs": [
    {
     "name": "stdout",
     "output_type": "stream",
     "text": [
      "b is greater than a\n"
     ]
    }
   ],
   "source": [
    "# IF CONDITION\n",
    "a=10\n",
    "b=26\n",
    "if b>a:# if not then you will get an error\n",
    "    print(\"b is greater than a\")"
   ]
  },
  {
   "cell_type": "code",
   "execution_count": 2,
   "metadata": {},
   "outputs": [
    {
     "name": "stdout",
     "output_type": "stream",
     "text": [
      "a is smaller than b\n"
     ]
    }
   ],
   "source": [
    "# IF ELSE CONDITION\n",
    "a=10\n",
    "b=26\n",
    "if b>a:\n",
    "    print(\"a is smaller than b\")\n",
    "else:\n",
    "    print(\"b is smaller than a\")"
   ]
  },
  {
   "cell_type": "code",
   "execution_count": 3,
   "metadata": {},
   "outputs": [
    {
     "name": "stdout",
     "output_type": "stream",
     "text": [
      "Enter any number: 45\n",
      "Enter another number: 50\n",
      "a is smaller than b\n"
     ]
    }
   ],
   "source": [
    "# IF ELIF AND ELSE CONDITION\n",
    "a=input(\"Enter any number: \")\n",
    "b=input(\"Enter another number: \")\n",
    "if b>a:\n",
    "    print(\"a is smaller than b\")\n",
    "elif b<a:\n",
    "    print(\"a is greater than b\")\n",
    "else:\n",
    "    print(\"both numbers are equal\")"
   ]
  },
  {
   "cell_type": "markdown",
   "metadata": {},
   "source": [
    "# 2) LAMBDA EXPRESSION"
   ]
  },
  {
   "cell_type": "code",
   "execution_count": 4,
   "metadata": {},
   "outputs": [
    {
     "name": "stdout",
     "output_type": "stream",
     "text": [
      "10\n"
     ]
    }
   ],
   "source": [
    "# PASSING AN ARGUMENT\n",
    "x = lambda y : y+5\n",
    "print(x(5))"
   ]
  },
  {
   "cell_type": "code",
   "execution_count": 5,
   "metadata": {},
   "outputs": [
    {
     "name": "stdout",
     "output_type": "stream",
     "text": [
      "16\n"
     ]
    }
   ],
   "source": [
    "# PASSING TWO ARGUMENTS\n",
    "x = lambda y,z : y + z\n",
    "print(x(7,9))"
   ]
  },
  {
   "cell_type": "code",
   "execution_count": 6,
   "metadata": {},
   "outputs": [
    {
     "name": "stdout",
     "output_type": "stream",
     "text": [
      "90\n"
     ]
    }
   ],
   "source": [
    "# PASSING THREE ARGUMENTS\n",
    "x = lambda w,y,z : w*y*z\n",
    "print(x(5,2,9))"
   ]
  },
  {
   "cell_type": "markdown",
   "metadata": {},
   "source": [
    "# 3) FUNCTIONS"
   ]
  },
  {
   "cell_type": "code",
   "execution_count": 7,
   "metadata": {},
   "outputs": [
    {
     "name": "stdout",
     "output_type": "stream",
     "text": [
      "This is a simple function\n"
     ]
    }
   ],
   "source": [
    "# CREATING SIMPLE FUNCTION AND ITS CALLING\n",
    "def myfunction():\n",
    "    print(\"This is a simple function\")\n",
    "    \n",
    "myfunction()"
   ]
  },
  {
   "cell_type": "code",
   "execution_count": 9,
   "metadata": {},
   "outputs": [
    {
     "name": "stdout",
     "output_type": "stream",
     "text": [
      "14\n",
      "22\n"
     ]
    }
   ],
   "source": [
    "# ARGUMENTS IN A FUNCTION\n",
    "def myfunction(n):\n",
    "    print(n + 12)\n",
    "myfunction(2)\n",
    "myfunction(10)    "
   ]
  },
  {
   "cell_type": "code",
   "execution_count": 10,
   "metadata": {},
   "outputs": [
    {
     "name": "stdout",
     "output_type": "stream",
     "text": [
      "orange\n",
      "banana\n",
      "peach\n"
     ]
    }
   ],
   "source": [
    "# PASSING LIST AS AN ARGUMENT \n",
    "def myfunction(my_list1):\n",
    "    for x in my_list1:\n",
    "        print(x)\n",
    "this_list = [\"orange\",\"banana\",\"peach\"]\n",
    "myfunction(this_list)# passing list"
   ]
  },
  {
   "cell_type": "code",
   "execution_count": 11,
   "metadata": {},
   "outputs": [
    {
     "name": "stdout",
     "output_type": "stream",
     "text": [
      "18\n"
     ]
    }
   ],
   "source": [
    "# RETURN VALUES IN FUNCTION\n",
    "def myfunction(a):\n",
    "    return 2*a\n",
    "print(myfunction(9))"
   ]
  },
  {
   "cell_type": "code",
   "execution_count": 18,
   "metadata": {},
   "outputs": [
    {
     "name": "stdout",
     "output_type": "stream",
     "text": [
      "14\n"
     ]
    }
   ],
   "source": [
    "# LAMBDA IN FUNCTION\n",
    "def myfunction(n):\n",
    "    return lambda x : x + n\n",
    "y = myfunction(12)\n",
    "print(y(2))"
   ]
  },
  {
   "cell_type": "code",
   "execution_count": 21,
   "metadata": {},
   "outputs": [
    {
     "name": "stdout",
     "output_type": "stream",
     "text": [
      "Enter a number to calculate its double6\n",
      "Enter a number to calculate its triple4\n",
      "16\n",
      "27\n"
     ]
    }
   ],
   "source": [
    "# TRIPLE AND DOUBLE THE NUMBERS YOU GIVE\n",
    "a = input(\"Enter a number to calculate its double\")\n",
    "b = input(\"Enter a number to calculate its triple\")\n",
    "\n",
    "def myfunction(n):\n",
    "    return lambda x : x * n\n",
    "double_fun = myfunction(2)\n",
    "triple_fun = myfunction(3)\n",
    "\n",
    "print(double_fun(8))\n",
    "print(triple_fun(9))"
   ]
  },
  {
   "cell_type": "code",
   "execution_count": 22,
   "metadata": {},
   "outputs": [
    {
     "name": "stdout",
     "output_type": "stream",
     "text": [
      "apple\n",
      "banana\n",
      "peach\n"
     ]
    }
   ],
   "source": [
    "# MANY ARGUMENT FUNCTION\n",
    "def myfunction(*arg):\n",
    "    for ar in arg:\n",
    "        print(ar)\n",
    "myfunction(\"apple\",\"banana\",\"peach\")"
   ]
  },
  {
   "cell_type": "code",
   "execution_count": 29,
   "metadata": {},
   "outputs": [
    {
     "name": "stdout",
     "output_type": "stream",
     "text": [
      "a\n",
      "p\n",
      "p\n",
      "l\n",
      "e\n"
     ]
    }
   ],
   "source": [
    "# KEYWORD ARGUMENT\n",
    "def myfunction(**kwarg):\n",
    "    for a in kwarg[\"arg\"]:\n",
    "        print(a)\n",
    "myfunction(arg=\"apple\",arg1=\"banana\",arg2=\"peach\")"
   ]
  },
  {
   "cell_type": "markdown",
   "metadata": {},
   "source": [
    "# 4) MAP"
   ]
  },
  {
   "cell_type": "code",
   "execution_count": 41,
   "metadata": {},
   "outputs": [
    {
     "name": "stdout",
     "output_type": "stream",
     "text": [
      "[7, 8, 14]\n"
     ]
    }
   ],
   "source": [
    "def myfunction(x,y):\n",
    "    return x + y\n",
    "A = map(myfunction, (3,7,5),(4,1,9))\n",
    "print(list(A))"
   ]
  },
  {
   "cell_type": "code",
   "execution_count": 36,
   "metadata": {},
   "outputs": [
    {
     "name": "stdout",
     "output_type": "stream",
     "text": [
      "[2, 4, 6, 8, 10, 12, 14, 16, 18, 20, 22]\n"
     ]
    }
   ],
   "source": [
    "# USING LAMBDA\n",
    "a = list(map(lambda x : x * 2 ,range(1,12)))\n",
    "print(a)"
   ]
  },
  {
   "cell_type": "code",
   "execution_count": 37,
   "metadata": {},
   "outputs": [
    {
     "name": "stdout",
     "output_type": "stream",
     "text": [
      "[14, 14, 36]\n"
     ]
    }
   ],
   "source": [
    "# ANOTHER ONE WITH LAMBDA\n",
    "list1 = [2,7,4]\n",
    "list2 = [7,2,9]\n",
    "print(list(map(lambda a , b : a * b, list1,list2)))"
   ]
  },
  {
   "cell_type": "markdown",
   "metadata": {},
   "source": [
    "# 5) FILTER"
   ]
  },
  {
   "cell_type": "code",
   "execution_count": 43,
   "metadata": {},
   "outputs": [
    {
     "name": "stdout",
     "output_type": "stream",
     "text": [
      "2\n",
      "4\n",
      "6\n",
      "10\n",
      "14\n",
      "16\n"
     ]
    }
   ],
   "source": [
    "even_no = [2,4,6,7,10,11,14,16,15,27]\n",
    "def myfunction(x):\n",
    "    if x % 2 == 0:\n",
    "        return True\n",
    "    else:\n",
    "        return False\n",
    "ans = filter(myfunction , even_no)\n",
    "for x in ans:\n",
    "    print(x)"
   ]
  },
  {
   "cell_type": "code",
   "execution_count": 44,
   "metadata": {},
   "outputs": [
    {
     "name": "stdout",
     "output_type": "stream",
     "text": [
      "[2, 4, 6, 8]\n"
     ]
    }
   ],
   "source": [
    "# WITH LAMBA\n",
    "a = filter(lambda x:x%2==0 , range(1,9))\n",
    "print(list(a))"
   ]
  },
  {
   "cell_type": "markdown",
   "metadata": {},
   "source": [
    "# 6) REDUCE"
   ]
  },
  {
   "cell_type": "code",
   "execution_count": 48,
   "metadata": {},
   "outputs": [
    {
     "name": "stdout",
     "output_type": "stream",
     "text": [
      "25\n"
     ]
    }
   ],
   "source": [
    "from functools import reduce\n",
    "\n",
    "my_list = [3,7,5,9,1]\n",
    "def myfunction(x,y):\n",
    "    return x + y\n",
    "ans = reduce(myfunction , my_list)\n",
    "print(ans)"
   ]
  },
  {
   "cell_type": "code",
   "execution_count": 51,
   "metadata": {},
   "outputs": [
    {
     "data": {
      "text/plain": [
       "137"
      ]
     },
     "execution_count": 51,
     "metadata": {},
     "output_type": "execute_result"
    }
   ],
   "source": [
    "# WITH LAMBDA\n",
    "from functools import reduce\n",
    "\n",
    "functools.reduce(lambda x,y : x+y, [21,55,8,42,11])"
   ]
  },
  {
   "cell_type": "code",
   "execution_count": 56,
   "metadata": {},
   "outputs": [
    {
     "name": "stdout",
     "output_type": "stream",
     "text": [
      "The product of the list elements is : 25080\n"
     ]
    }
   ],
   "source": [
    "# OPERATOR FUNCTION\n",
    "import functools\n",
    "import operator\n",
    "\n",
    "print(\"The product of the list elements is : \",end=\"\")\n",
    "print(functools.reduce(operator.mul, [5,11,19,24]))"
   ]
  },
  {
   "cell_type": "markdown",
   "metadata": {},
   "source": [
    "# 7) DECORATORS"
   ]
  },
  {
   "cell_type": "code",
   "execution_count": 65,
   "metadata": {},
   "outputs": [
    {
     "name": "stdout",
     "output_type": "stream",
     "text": [
      "Started\n",
      "120\n",
      "Total time taken in : factorial 2.009355306625366\n"
     ]
    }
   ],
   "source": [
    "import time\n",
    "import math\n",
    "\n",
    "def calculate_time(func):\n",
    "    def inner1(*args,**kwargs):\n",
    "        print(\"Started\")\n",
    "        begin = time.time()\n",
    "        func(*args, **kwargs)\n",
    "        end = time.time()\n",
    "        print(\"Total time taken in :\", func.__name__,end-begin)\n",
    "    return inner1\n",
    "\n",
    "@calculate_time\n",
    "def factorial(num):\n",
    "    time.sleep(2)\n",
    "    print(math.factorial(num))\n",
    "\n",
    "factorial(5)"
   ]
  },
  {
   "cell_type": "code",
   "execution_count": null,
   "metadata": {},
   "outputs": [],
   "source": []
  }
 ],
 "metadata": {
  "kernelspec": {
   "display_name": "Python 3",
   "language": "python",
   "name": "python3"
  },
  "language_info": {
   "codemirror_mode": {
    "name": "ipython",
    "version": 3
   },
   "file_extension": ".py",
   "mimetype": "text/x-python",
   "name": "python",
   "nbconvert_exporter": "python",
   "pygments_lexer": "ipython3",
   "version": "3.7.4"
  }
 },
 "nbformat": 4,
 "nbformat_minor": 2
}
